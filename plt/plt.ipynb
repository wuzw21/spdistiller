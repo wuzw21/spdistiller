{
 "cells": [
  {
   "cell_type": "code",
   "execution_count": null,
   "metadata": {},
   "outputs": [
    {
     "ename": "KeyError",
     "evalue": "'0.7_1'",
     "output_type": "error",
     "traceback": [
      "\u001b[0;31m---------------------------------------------------------------------------\u001b[0m",
      "\u001b[0;31mKeyError\u001b[0m                                  Traceback (most recent call last)",
      "Cell \u001b[0;32mIn[2], line 18\u001b[0m\n\u001b[1;32m     16\u001b[0m differences \u001b[38;5;241m=\u001b[39m []\n\u001b[1;32m     17\u001b[0m \u001b[38;5;28;01mfor\u001b[39;00m col1, col2 \u001b[38;5;129;01min\u001b[39;00m pair_names:\n\u001b[0;32m---> 18\u001b[0m     diff \u001b[38;5;241m=\u001b[39m np\u001b[38;5;241m.\u001b[39mabs(np\u001b[38;5;241m.\u001b[39marray(data[col1]) \u001b[38;5;241m-\u001b[39m np\u001b[38;5;241m.\u001b[39marray(\u001b[43mdata\u001b[49m\u001b[43m[\u001b[49m\u001b[43mcol2\u001b[49m\u001b[43m]\u001b[49m))\n\u001b[1;32m     19\u001b[0m     differences\u001b[38;5;241m.\u001b[39mappend(diff)\n\u001b[1;32m     21\u001b[0m \u001b[38;5;66;03m# Convert to a 2D array for heatmap\u001b[39;00m\n",
      "\u001b[0;31mKeyError\u001b[0m: '0.7_1'"
     ]
    }
   ],
   "source": [
    "import numpy as np\n",
    "import seaborn as sns\n",
    "import matplotlib.pyplot as plt\n",
    "\n",
    "# Replace with your actual data values\n",
    "data = {\n",
    "    '0.5_0': [0.4674, 0.4826, 0.4674, 0.4826, 0.4428, 0.4560],\n",
    "    '0.6_0': [0.4554, 0.4742, 0.4635, 0.4711, 0.4388, 0.4584],\n",
    "    # Add remaining columns accordingly...\n",
    "    '0.6_1': [0.4204, 0.4282, 0.4514, 0.4618, 0.4318, 0.4453],\n",
    "    # Add more columns to complete the data structure as shown in your table...\n",
    "}\n",
    "\n",
    "# Calculate pairwise differences for specified pairs\n",
    "pair_names = [('0.5_0', '0.6_1'),]  # add more pairs as needed\n",
    "differences = []\n",
    "for col1, col2 in pair_names:\n",
    "    diff = np.abs(np.array(data[col1]) - np.array(data[col2]))\n",
    "    differences.append(diff)\n",
    "\n",
    "# Convert to a 2D array for heatmap\n",
    "diff_matrix = np.array(differences)\n",
    "\n",
    "# Plot heatmap\n",
    "plt.figure(figsize=(10, 8))\n",
    "sns.heatmap(diff_matrix, annot=True, cmap='YlGnBu', cbar_kws={'label': 'Difference'})\n",
    "plt.xticks(ticks=np.arange(len(data[col1])), labels=['Row 1', 'Row 2'])  # Add labels based on row names\n",
    "plt.yticks(ticks=np.arange(len(pair_names)), labels=[f'{p[0]} vs {p[1]}' for p in pair_names])\n",
    "plt.title('Pairwise Differences')\n",
    "plt.show()"
   ]
  }
 ],
 "metadata": {
  "kernelspec": {
   "display_name": "sparse",
   "language": "python",
   "name": "python3"
  },
  "language_info": {
   "codemirror_mode": {
    "name": "ipython",
    "version": 3
   },
   "file_extension": ".py",
   "mimetype": "text/x-python",
   "name": "python",
   "nbconvert_exporter": "python",
   "pygments_lexer": "ipython3",
   "version": "3.9.20"
  }
 },
 "nbformat": 4,
 "nbformat_minor": 2
}
